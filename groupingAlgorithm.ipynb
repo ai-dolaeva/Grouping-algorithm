{
  "nbformat": 4,
  "nbformat_minor": 0,
  "metadata": {
    "colab": {
      "provenance": [],
      "authorship_tag": "ABX9TyOwa7RNhDYAOjJcSdGh4qgk"
    },
    "kernelspec": {
      "name": "python3",
      "display_name": "Python 3"
    },
    "language_info": {
      "name": "python"
    }
  },
  "cells": [
    {
      "cell_type": "code",
      "source": [
        "def countNumbers(list_ID):\n",
        "  '''\n",
        "  функция подсчитывает число покупателей в каждой группе\n",
        "  входные данные: list_ID - список ID клиентов\n",
        "  выходные данные: словарь, состоящий из номера группы (key) и количества покупателей в группе (value)\n",
        "  '''\n",
        "  dict_groups = {} # словарь групп покупателей\n",
        "  for i in list_ID:\n",
        "    count_digits = sum(map(int,str(i))) # суммирование цифр ID\n",
        "    if count_digits in dict_groups:\n",
        "      dict_groups[count_digits] += 1\n",
        "    else:\n",
        "      dict_groups[count_digits] = 1\n",
        "  return dict_groups"
      ],
      "metadata": {
        "id": "ZxQLD5T3E6GM"
      },
      "execution_count": 5,
      "outputs": []
    },
    {
      "cell_type": "code",
      "source": [
        "def NCustomGroups(n_customers):\n",
        "  '''\n",
        "  функция подсчитывает число покупателей в каждой группе через функцию countNumbers\n",
        "  входные данные: n_customers - число покупателей\n",
        "  выходные данные: словарь, состоящий из номера группы (key) и количества покупателей в группе (value)\n",
        "  '''\n",
        "  list_ID = list(range(0,n_customers)) # формирование ID списка клиентов\n",
        "  return countNumbers(list_ID)"
      ],
      "metadata": {
        "id": "lVG3Mf7p-FyC"
      },
      "execution_count": 6,
      "outputs": []
    },
    {
      "cell_type": "code",
      "source": [
        "dict_groups = GroupNumbers(9999999)  # ID клиента 5-7 цифр. 9999999 - количество покупателей"
      ],
      "metadata": {
        "id": "OJDmlumH-Gv8"
      },
      "execution_count": null,
      "outputs": []
    },
    {
      "cell_type": "code",
      "source": [
        "dict_groups # ключ - номер группы, значение - количество покупателей"
      ],
      "metadata": {
        "colab": {
          "base_uri": "https://localhost:8080/"
        },
        "id": "kdgnEjCxN5i6",
        "outputId": "81d43560-0419-4f8b-b05b-fcad9d458d84"
      },
      "execution_count": null,
      "outputs": [
        {
          "output_type": "execute_result",
          "data": {
            "text/plain": [
              "{0: 1,\n",
              " 1: 7,\n",
              " 2: 28,\n",
              " 3: 84,\n",
              " 4: 210,\n",
              " 5: 462,\n",
              " 6: 924,\n",
              " 7: 1716,\n",
              " 8: 3003,\n",
              " 9: 5005,\n",
              " 10: 8001,\n",
              " 11: 12327,\n",
              " 12: 18368,\n",
              " 13: 26544,\n",
              " 14: 37290,\n",
              " 15: 51030,\n",
              " 16: 68145,\n",
              " 17: 88935,\n",
              " 18: 113575,\n",
              " 19: 142065,\n",
              " 20: 174195,\n",
              " 21: 209525,\n",
              " 22: 247380,\n",
              " 23: 286860,\n",
              " 24: 326865,\n",
              " 25: 366135,\n",
              " 26: 403305,\n",
              " 27: 436975,\n",
              " 28: 465795,\n",
              " 29: 488565,\n",
              " 30: 504315,\n",
              " 31: 512365,\n",
              " 32: 512365,\n",
              " 33: 504315,\n",
              " 34: 488565,\n",
              " 35: 465795,\n",
              " 36: 436975,\n",
              " 37: 403305,\n",
              " 38: 366135,\n",
              " 39: 326865,\n",
              " 40: 286860,\n",
              " 41: 247380,\n",
              " 42: 209525,\n",
              " 43: 174195,\n",
              " 44: 142065,\n",
              " 45: 113575,\n",
              " 46: 88935,\n",
              " 47: 68145,\n",
              " 48: 51030,\n",
              " 49: 37290,\n",
              " 50: 26544,\n",
              " 51: 18368,\n",
              " 52: 12327,\n",
              " 53: 8001,\n",
              " 54: 5005,\n",
              " 55: 3003,\n",
              " 56: 1716,\n",
              " 57: 924,\n",
              " 58: 462,\n",
              " 59: 210,\n",
              " 60: 84,\n",
              " 61: 28,\n",
              " 62: 7,\n",
              " 63: 1}"
            ]
          },
          "metadata": {},
          "execution_count": 61
        }
      ]
    },
    {
      "cell_type": "code",
      "source": [
        "import matplotlib.pyplot as plt\n",
        "plt.bar(dict_groups.keys(), dict_groups.values(), color='g') # визуализация распределения покупателей по группам"
      ],
      "metadata": {
        "colab": {
          "base_uri": "https://localhost:8080/",
          "height": 282
        },
        "id": "X0J5Wv09NHzO",
        "outputId": "5cdce553-726e-48a4-d5c5-3afcd3e57f14"
      },
      "execution_count": null,
      "outputs": [
        {
          "output_type": "execute_result",
          "data": {
            "text/plain": [
              "<BarContainer object of 64 artists>"
            ]
          },
          "metadata": {},
          "execution_count": 62
        },
        {
          "output_type": "display_data",
          "data": {
            "text/plain": [
              "<Figure size 432x288 with 1 Axes>"
            ],
            "image/png": "[encoded data removed]"
          },
          "metadata": {
            "needs_background": "light"
          }
        }
      ]
    },
    {
      "cell_type": "code",
      "source": [
        "def NCustomGroupsByFistID(n_customers, n_first_id):\n",
        "  '''\n",
        "  функция подсчитывает число покупателей в каждой группе через функцию countNumbers\n",
        "  входные данные: n_customers -  число покупателей, n_first_id - первое ID в последовательности\n",
        "  выходные данные: словарь, состоящий из номера группы (key) и количества покупателей в группе (value)\n",
        "  '''\n",
        "  list_ID = list(range(n_first_id, n_customers+n_first_id)) # формирование ID списка клиентов\n",
        "  return countNumbers(list_ID)"
      ],
      "metadata": {
        "id": "-eYPwI9t-GyT"
      },
      "execution_count": 7,
      "outputs": []
    },
    {
      "cell_type": "code",
      "source": [
        "NCustomGroupsByFistID(9099999, 89765)"
      ],
      "metadata": {
        "colab": {
          "base_uri": "https://localhost:8080/"
        },
        "id": "g8Gv5qA--G00",
        "outputId": "75a6281d-465f-46aa-e2a2-261c010e8b12"
      },
      "execution_count": 8,
      "outputs": [
        {
          "output_type": "execute_result",
          "data": {
            "text/plain": [
              "{35: 420634,\n",
              " 36: 390706,\n",
              " 37: 356747,\n",
              " 38: 320143,\n",
              " 39: 282276,\n",
              " 31: 477752,\n",
              " 32: 474465,\n",
              " 33: 463463,\n",
              " 34: 445247,\n",
              " 40: 244443,\n",
              " 41: 207798,\n",
              " 42: 173307,\n",
              " 25: 350518,\n",
              " 26: 385116,\n",
              " 27: 415893,\n",
              " 28: 441535,\n",
              " 29: 460914,\n",
              " 30: 473168,\n",
              " 43: 141716,\n",
              " 44: 113538,\n",
              " 9: 4291,\n",
              " 10: 7009,\n",
              " 11: 10996,\n",
              " 12: 16637,\n",
              " 13: 24353,\n",
              " 14: 34580,\n",
              " 15: 47742,\n",
              " 16: 64218,\n",
              " 17: 84303,\n",
              " 18: 108163,\n",
              " 19: 135780,\n",
              " 20: 166912,\n",
              " 21: 201078,\n",
              " 22: 237558,\n",
              " 23: 275408,\n",
              " 24: 313490,\n",
              " 45: 89054,\n",
              " 1: 2,\n",
              " 2: 13,\n",
              " 3: 49,\n",
              " 4: 140,\n",
              " 5: 336,\n",
              " 6: 714,\n",
              " 7: 1386,\n",
              " 8: 2508,\n",
              " 46: 68322,\n",
              " 47: 51209,\n",
              " 48: 37441,\n",
              " 49: 26655,\n",
              " 50: 18440,\n",
              " 51: 12367,\n",
              " 52: 8019,\n",
              " 53: 5011,\n",
              " 54: 3004,\n",
              " 55: 1716,\n",
              " 56: 924,\n",
              " 57: 462,\n",
              " 58: 210,\n",
              " 59: 84,\n",
              " 60: 28,\n",
              " 61: 7,\n",
              " 62: 1}"
            ]
          },
          "metadata": {},
          "execution_count": 8
        }
      ]
    }
  ]
}